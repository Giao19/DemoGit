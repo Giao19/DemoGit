{
 "cells": [
  {
   "cell_type": "code",
   "execution_count": 1,
   "id": "8e7e83ba-958b-4a01-9f93-03216cb504e2",
   "metadata": {},
   "outputs": [],
   "source": [
    "import numpy as np\n",
    "import matplotlib.pyplot as plt\n",
    "import pandas as pd\n",
    "from sklearn.model_selection import train_test_split\n",
    "from sklearn.preprocessing import StandardScaler\n",
    "from sklearn.svm import SVC\n",
    "from sklearn.impute import SimpleImputer\n",
    "from sklearn.metrics import classification_report, confusion_matrix, accuracy_score\n",
    "import pickle"
   ]
  },
  {
   "cell_type": "code",
   "execution_count": 2,
   "id": "4131c3e7-ee72-4ac1-87d1-cae27b8845ae",
   "metadata": {},
   "outputs": [],
   "source": [
    "# Đọc dữ liệu\n",
    "file_path = 'dataset svm.csv' \n",
    "dataset = np.loadtxt(file_path,delimiter=',',dtype=str, encoding='utf-8-sig')\n",
    "y = dataset[:,0]\n",
    "X = np.delete(dataset,0,1).astype(dtype='<i2')"
   ]
  },
  {
   "cell_type": "code",
   "execution_count": 3,
   "id": "dc49f6cb-b786-4fe9-bb59-9dadefb0e8d1",
   "metadata": {},
   "outputs": [
    {
     "data": {
      "text/plain": [
       "['M', 'T', 'K']"
      ]
     },
     "execution_count": 3,
     "metadata": {},
     "output_type": "execute_result"
    }
   ],
   "source": [
    "list(set(list(y)))"
   ]
  },
  {
   "cell_type": "code",
   "execution_count": 4,
   "id": "c0117f23-fba3-4c41-b242-e4bdb4e2e6a1",
   "metadata": {},
   "outputs": [],
   "source": [
    "\n",
    "# Chia tập dữ liệu\n",
    "X_train, X_test, y_train, y_test = train_test_split(X, y, test_size=0.2, random_state=42)"
   ]
  },
  {
   "cell_type": "code",
   "execution_count": 5,
   "id": "04ad3e15-ffd1-4c9b-a419-c94740199745",
   "metadata": {},
   "outputs": [],
   "source": [
    "# Chuẩn hóa dữ liệu\n",
    "sc = StandardScaler()\n",
    "X_train = sc.fit_transform(X_train)\n",
    "X_test = sc.transform(X_test)\n"
   ]
  },
  {
   "cell_type": "code",
   "execution_count": 6,
   "id": "aae3b906-a90f-4f47-b850-7cbc4154d1db",
   "metadata": {},
   "outputs": [],
   "source": [
    "# Tinh chỉnh tham số mô hình\n",
    "kernel = 'rbf'\n",
    "C = 1\n",
    "gamma = 0.01"
   ]
  },
  {
   "cell_type": "code",
   "execution_count": 7,
   "id": "71654fb6-7edd-4c19-82a4-6ff097289a85",
   "metadata": {},
   "outputs": [
    {
     "data": {
      "text/html": [
       "<style>#sk-container-id-1 {color: black;}#sk-container-id-1 pre{padding: 0;}#sk-container-id-1 div.sk-toggleable {background-color: white;}#sk-container-id-1 label.sk-toggleable__label {cursor: pointer;display: block;width: 100%;margin-bottom: 0;padding: 0.3em;box-sizing: border-box;text-align: center;}#sk-container-id-1 label.sk-toggleable__label-arrow:before {content: \"▸\";float: left;margin-right: 0.25em;color: #696969;}#sk-container-id-1 label.sk-toggleable__label-arrow:hover:before {color: black;}#sk-container-id-1 div.sk-estimator:hover label.sk-toggleable__label-arrow:before {color: black;}#sk-container-id-1 div.sk-toggleable__content {max-height: 0;max-width: 0;overflow: hidden;text-align: left;background-color: #f0f8ff;}#sk-container-id-1 div.sk-toggleable__content pre {margin: 0.2em;color: black;border-radius: 0.25em;background-color: #f0f8ff;}#sk-container-id-1 input.sk-toggleable__control:checked~div.sk-toggleable__content {max-height: 200px;max-width: 100%;overflow: auto;}#sk-container-id-1 input.sk-toggleable__control:checked~label.sk-toggleable__label-arrow:before {content: \"▾\";}#sk-container-id-1 div.sk-estimator input.sk-toggleable__control:checked~label.sk-toggleable__label {background-color: #d4ebff;}#sk-container-id-1 div.sk-label input.sk-toggleable__control:checked~label.sk-toggleable__label {background-color: #d4ebff;}#sk-container-id-1 input.sk-hidden--visually {border: 0;clip: rect(1px 1px 1px 1px);clip: rect(1px, 1px, 1px, 1px);height: 1px;margin: -1px;overflow: hidden;padding: 0;position: absolute;width: 1px;}#sk-container-id-1 div.sk-estimator {font-family: monospace;background-color: #f0f8ff;border: 1px dotted black;border-radius: 0.25em;box-sizing: border-box;margin-bottom: 0.5em;}#sk-container-id-1 div.sk-estimator:hover {background-color: #d4ebff;}#sk-container-id-1 div.sk-parallel-item::after {content: \"\";width: 100%;border-bottom: 1px solid gray;flex-grow: 1;}#sk-container-id-1 div.sk-label:hover label.sk-toggleable__label {background-color: #d4ebff;}#sk-container-id-1 div.sk-serial::before {content: \"\";position: absolute;border-left: 1px solid gray;box-sizing: border-box;top: 0;bottom: 0;left: 50%;z-index: 0;}#sk-container-id-1 div.sk-serial {display: flex;flex-direction: column;align-items: center;background-color: white;padding-right: 0.2em;padding-left: 0.2em;position: relative;}#sk-container-id-1 div.sk-item {position: relative;z-index: 1;}#sk-container-id-1 div.sk-parallel {display: flex;align-items: stretch;justify-content: center;background-color: white;position: relative;}#sk-container-id-1 div.sk-item::before, #sk-container-id-1 div.sk-parallel-item::before {content: \"\";position: absolute;border-left: 1px solid gray;box-sizing: border-box;top: 0;bottom: 0;left: 50%;z-index: -1;}#sk-container-id-1 div.sk-parallel-item {display: flex;flex-direction: column;z-index: 1;position: relative;background-color: white;}#sk-container-id-1 div.sk-parallel-item:first-child::after {align-self: flex-end;width: 50%;}#sk-container-id-1 div.sk-parallel-item:last-child::after {align-self: flex-start;width: 50%;}#sk-container-id-1 div.sk-parallel-item:only-child::after {width: 0;}#sk-container-id-1 div.sk-dashed-wrapped {border: 1px dashed gray;margin: 0 0.4em 0.5em 0.4em;box-sizing: border-box;padding-bottom: 0.4em;background-color: white;}#sk-container-id-1 div.sk-label label {font-family: monospace;font-weight: bold;display: inline-block;line-height: 1.2em;}#sk-container-id-1 div.sk-label-container {text-align: center;}#sk-container-id-1 div.sk-container {/* jupyter's `normalize.less` sets `[hidden] { display: none; }` but bootstrap.min.css set `[hidden] { display: none !important; }` so we also need the `!important` here to be able to override the default hidden behavior on the sphinx rendered scikit-learn.org. See: https://github.com/scikit-learn/scikit-learn/issues/21755 */display: inline-block !important;position: relative;}#sk-container-id-1 div.sk-text-repr-fallback {display: none;}</style><div id=\"sk-container-id-1\" class=\"sk-top-container\"><div class=\"sk-text-repr-fallback\"><pre>SVC(C=1, gamma=0.01, random_state=42)</pre><b>In a Jupyter environment, please rerun this cell to show the HTML representation or trust the notebook. <br />On GitHub, the HTML representation is unable to render, please try loading this page with nbviewer.org.</b></div><div class=\"sk-container\" hidden><div class=\"sk-item\"><div class=\"sk-estimator sk-toggleable\"><input class=\"sk-toggleable__control sk-hidden--visually\" id=\"sk-estimator-id-1\" type=\"checkbox\" checked><label for=\"sk-estimator-id-1\" class=\"sk-toggleable__label sk-toggleable__label-arrow\">SVC</label><div class=\"sk-toggleable__content\"><pre>SVC(C=1, gamma=0.01, random_state=42)</pre></div></div></div></div></div>"
      ],
      "text/plain": [
       "SVC(C=1, gamma=0.01, random_state=42)"
      ]
     },
     "execution_count": 7,
     "metadata": {},
     "output_type": "execute_result"
    }
   ],
   "source": [
    "# Tạo và huấn luyện mô hình\n",
    "classifier = SVC(kernel=kernel, C=C, gamma=gamma, random_state=42)\n",
    "classifier.fit(X_train, y_train)"
   ]
  },
  {
   "cell_type": "code",
   "execution_count": 8,
   "id": "da883b11-70b1-487c-a3bb-fd4ef192da06",
   "metadata": {},
   "outputs": [],
   "source": [
    "# Lưu trình chuẩn hóa và mô hình \n",
    "with open('model.pkl', 'wb') as model_file:\n",
    "    \n",
    "    pickle.dump({'model': classifier, 'scaler': sc}, model_file)"
   ]
  },
  {
   "cell_type": "code",
   "execution_count": 9,
   "id": "cf938fad-6a6a-41bb-8c3b-02a276066ed3",
   "metadata": {
    "scrolled": true
   },
   "outputs": [
    {
     "name": "stdout",
     "output_type": "stream",
     "text": [
      "Accuracy on Test Set: 0.7183098591549296\n",
      "Confusion Matrix on Test Set:\n",
      " [[55  5  5]\n",
      " [ 5 25  7]\n",
      " [11  7 22]]\n",
      "Classification Report on Test Set:\n",
      "               precision    recall  f1-score   support\n",
      "\n",
      "           K       0.77      0.85      0.81        65\n",
      "           M       0.68      0.68      0.68        37\n",
      "           T       0.65      0.55      0.59        40\n",
      "\n",
      "    accuracy                           0.72       142\n",
      "   macro avg       0.70      0.69      0.69       142\n",
      "weighted avg       0.71      0.72      0.71       142\n",
      "\n"
     ]
    }
   ],
   "source": [
    "# Dự đoán và đánh giá mô hình trên tập kiểm tra\n",
    "y_pred = classifier.predict(X_test)\n",
    "print(\"Accuracy on Test Set:\", accuracy_score(y_test, y_pred))\n",
    "print(\"Confusion Matrix on Test Set:\\n\", confusion_matrix(y_test, y_pred))\n",
    "print(\"Classification Report on Test Set:\\n\", classification_report(y_test, y_pred, zero_division=1))"
   ]
  },
  {
   "cell_type": "code",
   "execution_count": 10,
   "id": "8b3976c8-bf63-4ec2-88a5-3ef82e135511",
   "metadata": {
    "scrolled": true
   },
   "outputs": [
    {
     "name": "stdout",
     "output_type": "stream",
     "text": [
      "Accuracy on Training Set: 0.8900709219858156\n",
      "Confusion Matrix on Training Set:\n",
      " [[214   3   0]\n",
      " [  6 155   2]\n",
      " [ 44   7 133]]\n",
      "Classification Report on Training Set:\n",
      "               precision    recall  f1-score   support\n",
      "\n",
      "           K       0.81      0.99      0.89       217\n",
      "           M       0.94      0.95      0.95       163\n",
      "           T       0.99      0.72      0.83       184\n",
      "\n",
      "    accuracy                           0.89       564\n",
      "   macro avg       0.91      0.89      0.89       564\n",
      "weighted avg       0.90      0.89      0.89       564\n",
      "\n"
     ]
    }
   ],
   "source": [
    "# Dự đoán và đánh giá mô hình trên tập huấn luyện\n",
    "y_train_pred = classifier.predict(X_train)\n",
    "print(\"Accuracy on Training Set:\", accuracy_score(y_train, y_train_pred))\n",
    "print(\"Confusion Matrix on Training Set:\\n\", confusion_matrix(y_train, y_train_pred))\n",
    "print(\"Classification Report on Training Set:\\n\", classification_report(y_train, y_train_pred, zero_division=1))"
   ]
  },
  {
   "cell_type": "code",
   "execution_count": 11,
   "id": "e6251917-ec5e-4752-bdf5-740fc966a635",
   "metadata": {},
   "outputs": [
    {
     "data": {
      "image/png": "[encoded data removed]",
      "text/plain": [
       "<Figure size 200x100 with 2 Axes>"
      ]
     },
     "metadata": {},
     "output_type": "display_data"
    },
    {
     "data": {
      "image/png": "[encoded data removed]",
      "text/plain": [
       "<Figure size 200x100 with 2 Axes>"
      ]
     },
     "metadata": {},
     "output_type": "display_data"
    }
   ],
   "source": [
    "import seaborn as sns\n",
    "\n",
    "# Vẽ ma trận nhầm lẫn cho tập kiểm tra\n",
    "plt.figure(figsize=(2, 1))\n",
    "sns.heatmap(confusion_matrix(y_test, y_pred), annot=True, fmt='d', cmap='Blues', xticklabels=list(set(list(y))), yticklabels=list(set(list(y))))\n",
    "plt.title('Confusion Matrix on Test Set')\n",
    "plt.xlabel('Predicted Label')\n",
    "plt.ylabel('True Label')\n",
    "plt.show()\n",
    "# Vẽ ma trận nhầm lẫn cho tập huấn luyện\n",
    "plt.figure(figsize=(2, 1))\n",
    "sns.heatmap(confusion_matrix(y_train, y_train_pred), annot=True, fmt='d', cmap='Blues', xticklabels=list(set(list(y))), yticklabels=list(set(list(y))))\n",
    "plt.title('Confusion Matrix on Training Set')\n",
    "plt.xlabel('Predicted Label')\n",
    "plt.ylabel('True Label')\n",
    "plt.show()\n"
   ]
  },
  {
   "cell_type": "code",
   "execution_count": 12,
   "id": "3f589416-12ac-499e-997b-38eaa35271b4",
   "metadata": {},
   "outputs": [
    {
     "name": "stdout",
     "output_type": "stream",
     "text": [
      "Cross-Validation Scores on Test Set: [0.44827586 0.44827586 0.46428571 0.46428571 0.46428571]\n",
      "Mean Cross-Validation Score on Test Set: 0.45788177339901487\n",
      "Cross-Validation Scores on Training Set: [0.38938053 0.38938053 0.38053097 0.38053097 0.38392857]\n",
      "Mean Cross-Validation Score on Training Set: 0.38475031605562576\n"
     ]
    }
   ],
   "source": [
    "from sklearn.model_selection import cross_val_score, StratifiedKFold\n",
    "from sklearn.svm import SVC\n",
    "\n",
    "# Định nghĩa mô hình với tham số C và gamma cần kiểm tra\n",
    "classifier = SVC(kernel='rbf', C=1, gamma=0.000001, random_state=42)\n",
    "\n",
    "# Sử dụng StratifiedKFold để đảm bảo phân phối đồng đều giữa các lớp\n",
    "cv = StratifiedKFold(n_splits=5, shuffle=True, random_state=50)\n",
    "\n",
    "# Cross-Validation trên tập kiểm tra\n",
    "cv_scores_test = cross_val_score(classifier, X_test, y_test, cv=cv)\n",
    "print(f\"Cross-Validation Scores on Test Set: {cv_scores_test}\")\n",
    "print(f\"Mean Cross-Validation Score on Test Set: {np.mean(cv_scores_test)}\")\n",
    "\n",
    "# Cross-Validation trên tập huấn luyện\n",
    "cv_scores_train = cross_val_score(classifier, X_train, y_train, cv=cv)\n",
    "print(f\"Cross-Validation Scores on Training Set: {cv_scores_train}\")\n",
    "print(f\"Mean Cross-Validation Score on Training Set: {np.mean(cv_scores_train)}\")"
   ]
  },
  {
   "cell_type": "code",
   "execution_count": null,
   "id": "684fd95a-6086-4ad7-98b7-23dd405ed2c1",
   "metadata": {},
   "outputs": [],
   "source": []
  }
 ],
 "metadata": {
  "kernelspec": {
   "display_name": "Python 3 (ipykernel)",
   "language": "python",
   "name": "python3"
  },
  "language_info": {
   "codemirror_mode": {
    "name": "ipython",
    "version": 3
   },
   "file_extension": ".py",
   "mimetype": "text/x-python",
   "name": "python",
   "nbconvert_exporter": "python",
   "pygments_lexer": "ipython3",
   "version": "3.11.5"
  }
 },
 "nbformat": 4,
 "nbformat_minor": 5
}
